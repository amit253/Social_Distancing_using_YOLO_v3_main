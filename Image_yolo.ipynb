{
 "cells": [
  {
   "cell_type": "code",
   "execution_count": 87,
   "id": "359788f3",
   "metadata": {},
   "outputs": [],
   "source": [
    "import cv2\n",
    "import numpy as np\n",
    "\n",
    "net = cv2.dnn.readNet(\"yolov3.weights\", \"yolov3.cfg\")\n",
    "net.setPreferableBackend(cv2.dnn.DNN_BACKEND_CUDA)\n",
    "net.setPreferableTarget(cv2.dnn.DNN_TARGET_CUDA)\n",
    "\n",
    "distance_thres = 50\n",
    "image = cv2.imread(\"test_image3.jpg\")"
   ]
  },
  {
   "cell_type": "code",
   "execution_count": 88,
   "id": "daee0196",
   "metadata": {},
   "outputs": [],
   "source": [
    "height, width = image.shape[:2]\n",
    "\n",
    "blob = cv2.dnn.blobFromImage(image, 0.00392, (416, 416), (0, 0, 0), True, crop=False)\n",
    "\n",
    "net.setInput(blob)\n",
    "layer_names = net.getUnconnectedOutLayersNames()\n",
    "outs = net.forward(layer_names)"
   ]
  },
  {
   "cell_type": "code",
   "execution_count": 89,
   "id": "b6e6fdd5",
   "metadata": {},
   "outputs": [
    {
     "name": "stdout",
     "output_type": "stream",
     "text": [
      "['person', 'bicycle', 'car', 'motorbike', 'aeroplane', 'bus', 'train', 'truck', 'boat', 'traffic light', 'fire hydrant', 'stop sign', 'parking meter', 'bench', 'bird', 'cat', 'dog', 'horse', 'sheep', 'cow', 'elephant', 'bear', 'zebra', 'giraffe', 'backpack', 'umbrella', 'handbag', 'tie', 'suitcase', 'frisbee', 'skis', 'snowboard', 'sports ball', 'kite', 'baseball bat', 'baseball glove', 'skateboard', 'surfboard', 'tennis racket', 'bottle', 'wine glass', 'cup', 'fork', 'knife', 'spoon', 'bowl', 'banana', 'apple', 'sandwich', 'orange', 'broccoli', 'carrot', 'hot dog', 'pizza', 'donut', 'cake', 'chair', 'sofa', 'pottedplant', 'bed', 'diningtable', 'toilet', 'tvmonitor', 'laptop', 'mouse', 'remote', 'keyboard', 'cell phone', 'microwave', 'oven', 'toaster', 'sink', 'refrigerator', 'book', 'clock', 'vase', 'scissors', 'teddy bear', 'hair drier', 'toothbrush']\n"
     ]
    }
   ],
   "source": [
    "classes = [] # classes list\n",
    "with open(\"coco.names\", \"r\") as f:\n",
    "  classes = [line.strip() for line in f.readlines()] \n",
    "print(classes)"
   ]
  },
  {
   "cell_type": "code",
   "execution_count": 90,
   "id": "0b777c86",
   "metadata": {},
   "outputs": [],
   "source": [
    "confidences = []\n",
    "boxes = []\n",
    "# class_ids = []\n",
    "# print(outs[0])\n",
    "for out in outs:\n",
    "    for detection in out:\n",
    "        scores = detection[5:]\n",
    "#         print(scores.shape)\n",
    "        class_id = np.argmax(scores)\n",
    "        if class_id != 0:\n",
    "            continue\n",
    "        confidence = scores[class_id]\n",
    "        if confidence > 0.3:\n",
    "            center_x = int(detection[0] * width)\n",
    "            center_y = int(detection[1] * height)\n",
    "            w = int(detection[2] * width)\n",
    "            h = int(detection[3] * height)\n",
    "            x = int(center_x - w / 2)\n",
    "            y = int(center_y - h / 2)\n",
    "            boxes.append([x, y, w, h])\n",
    "            confidences.append(float(confidence))\n",
    "#             class_ids.append(class_id)\n",
    "\n",
    "indexes = cv2.dnn.NMSBoxes(boxes, confidences, 0.3, 0.45)"
   ]
  },
  {
   "cell_type": "code",
   "execution_count": 91,
   "id": "8c48541f",
   "metadata": {},
   "outputs": [],
   "source": [
    "persons = []\n",
    "person_centres = []\n",
    "violate = set()\n",
    "\n",
    "for i in range(len(boxes)):\n",
    "    if i in indexes:\n",
    "        x, y, w, h = boxes[i]\n",
    "        persons.append(boxes[i])\n",
    "        person_centres.append([x + w // 2, y + h // 2])\n",
    "\n"
   ]
  },
  {
   "cell_type": "code",
   "execution_count": 92,
   "id": "6bc7acfa",
   "metadata": {},
   "outputs": [],
   "source": [
    "for i in range(len(persons)):\n",
    "    for j in range(i + 1, len(persons)):\n",
    "        if np.linalg.norm(np.array(person_centres[i]) - np.array(person_centres[j])) <= distance_thres:\n",
    "            violate.add(tuple(persons[i]))\n",
    "            violate.add(tuple(persons[j]))"
   ]
  },
  {
   "cell_type": "code",
   "execution_count": 93,
   "id": "43c351f3",
   "metadata": {},
   "outputs": [],
   "source": [
    "for (x, y, w, h) in persons:\n",
    "    if (x, y, w, h) in violate:\n",
    "        color = (0, 0, 255)\n",
    "    else:\n",
    "        color = (0, 255, 0)\n",
    "    cv2.rectangle(image, (x, y), (x + w, y + h), color, 2)\n",
    "    cv2.circle(image, (x + w // 2, y + h // 2), 5, (0, 0, 255), 2)"
   ]
  },
  {
   "cell_type": "code",
   "execution_count": 94,
   "id": "1b3ecaf2",
   "metadata": {},
   "outputs": [],
   "source": [
    "cv2.putText(image, f'No of Violations: {len(violate)}', (15, height - 10),\n",
    "            cv2.FONT_HERSHEY_SIMPLEX, 1, (0, 126, 255), 2)\n",
    "\n",
    "cv2.imshow(\"Social Distance Detection\", image)\n",
    "cv2.waitKey(0)\n",
    "cv2.destroyAllWindows()"
   ]
  },
  {
   "cell_type": "code",
   "execution_count": null,
   "id": "a27d60f6",
   "metadata": {},
   "outputs": [],
   "source": []
  }
 ],
 "metadata": {
  "kernelspec": {
   "display_name": "Python 3",
   "language": "python",
   "name": "python3"
  },
  "language_info": {
   "codemirror_mode": {
    "name": "ipython",
    "version": 3
   },
   "file_extension": ".py",
   "mimetype": "text/x-python",
   "name": "python",
   "nbconvert_exporter": "python",
   "pygments_lexer": "ipython3",
   "version": "3.8.8"
  }
 },
 "nbformat": 4,
 "nbformat_minor": 5
}
