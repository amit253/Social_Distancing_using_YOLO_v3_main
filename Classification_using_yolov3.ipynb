{
 "cells": [
  {
   "cell_type": "code",
   "execution_count": 7,
   "id": "60f1450a",
   "metadata": {},
   "outputs": [],
   "source": [
    "import cv2\n",
    "import numpy as np\n",
    "\n",
    "net = cv2.dnn.readNet(\"yolov3.weights\", \"yolov3.cfg\")\n",
    "net.setPreferableBackend(cv2.dnn.DNN_BACKEND_CUDA)\n",
    "net.setPreferableTarget(cv2.dnn.DNN_TARGET_CUDA)\n",
    "\n",
    "distance_thres = 50\n",
    "image = cv2.imread(\"dog.png\")"
   ]
  },
  {
   "cell_type": "code",
   "execution_count": 8,
   "id": "3a37340c",
   "metadata": {},
   "outputs": [],
   "source": [
    "height, width = image.shape[:2]\n",
    "\n",
    "blob = cv2.dnn.blobFromImage(image, 0.00392, (416, 416), (0, 0, 0), True, crop=False)\n",
    "\n",
    "net.setInput(blob)\n",
    "layer_names = net.getUnconnectedOutLayersNames()\n",
    "outs = net.forward(layer_names)"
   ]
  },
  {
   "cell_type": "code",
   "execution_count": 9,
   "id": "087e703f",
   "metadata": {},
   "outputs": [
    {
     "name": "stdout",
     "output_type": "stream",
     "text": [
      "['person', 'bicycle', 'car', 'motorbike', 'aeroplane', 'bus', 'train', 'truck', 'boat', 'traffic light', 'fire hydrant', 'stop sign', 'parking meter', 'bench', 'bird', 'cat', 'dog', 'horse', 'sheep', 'cow', 'elephant', 'bear', 'zebra', 'giraffe', 'backpack', 'umbrella', 'handbag', 'tie', 'suitcase', 'frisbee', 'skis', 'snowboard', 'sports ball', 'kite', 'baseball bat', 'baseball glove', 'skateboard', 'surfboard', 'tennis racket', 'bottle', 'wine glass', 'cup', 'fork', 'knife', 'spoon', 'bowl', 'banana', 'apple', 'sandwich', 'orange', 'broccoli', 'carrot', 'hot dog', 'pizza', 'donut', 'cake', 'chair', 'sofa', 'pottedplant', 'bed', 'diningtable', 'toilet', 'tvmonitor', 'laptop', 'mouse', 'remote', 'keyboard', 'cell phone', 'microwave', 'oven', 'toaster', 'sink', 'refrigerator', 'book', 'clock', 'vase', 'scissors', 'teddy bear', 'hair drier', 'toothbrush']\n"
     ]
    }
   ],
   "source": [
    "classes = [] # classes list\n",
    "with open(\"coco.names\", \"r\") as f:\n",
    "  classes = [line.strip() for line in f.readlines()] \n",
    "print(classes)\n",
    "colors = np.random.uniform(0, 255, size=(len(classes), 3))\n",
    "\n",
    "img = image\n",
    "\n",
    "height, width, channels = image.shape \n",
    "class_ids = []\n",
    "confidences = []   \n",
    "boxes = []\n",
    "for out in outs:\n",
    "  for detection in out: \n",
    "      scores = detection[5:]  \n",
    "      class_id = np.argmax(scores)\n",
    "      confidence = scores[class_id] \n",
    "      if confidence > 0.2:\n",
    "          # Object detected\n",
    "          center_x = int(detection[0] * width)\n",
    "          center_y = int(detection[1] * height) \n",
    "          w = int(detection[2] * width)\n",
    "          h = int(detection[3] * height) \n",
    "          # Rectangle coordinates\n",
    "          x = int(center_x - w / 2)\n",
    "          y = int(center_y - h / 2)\n",
    "          boxes.append([x, y, w, h]) \n",
    "          confidences.append(float(confidence)) \n",
    "          class_ids.append(class_id) \n",
    "          \n",
    "\n",
    "indexes = cv2.dnn.NMSBoxes(boxes, confidences, 0.35,0.4)\n",
    "font = cv2.FONT_HERSHEY_PLAIN \n",
    "for i in range(len(boxes)):\n",
    "  if i in indexes:\n",
    "      x, y, w, h = boxes[i]\n",
    "      label = str(classes[class_ids[i]])\n",
    "      color = colors[i]\n",
    "      cv2.rectangle(img, (x, y), (x + w, y + h), color, 2)\n",
    "      cv2.circle(image, (x + w // 2, y + h // 2), 5, (0, 0, 255), 2)\n",
    "      cv2.putText(img, label, (x, y + 30), font, 3, color, 2)\n",
    "\n",
    "cv2.imshow(\"classification\",img)\n",
    "cv2.waitKey(0)\n",
    "cv2.destroyAllWindows()"
   ]
  },
  {
   "cell_type": "code",
   "execution_count": null,
   "id": "9ac18cb0",
   "metadata": {},
   "outputs": [],
   "source": []
  },
  {
   "cell_type": "code",
   "execution_count": null,
   "id": "0ac2a629",
   "metadata": {},
   "outputs": [],
   "source": []
  }
 ],
 "metadata": {
  "kernelspec": {
   "display_name": "Python 3",
   "language": "python",
   "name": "python3"
  },
  "language_info": {
   "codemirror_mode": {
    "name": "ipython",
    "version": 3
   },
   "file_extension": ".py",
   "mimetype": "text/x-python",
   "name": "python",
   "nbconvert_exporter": "python",
   "pygments_lexer": "ipython3",
   "version": "3.8.8"
  }
 },
 "nbformat": 4,
 "nbformat_minor": 5
}
